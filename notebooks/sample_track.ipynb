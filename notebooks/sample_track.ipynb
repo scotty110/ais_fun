{
 "cells": [
  {
   "cell_type": "markdown",
   "metadata": {},
   "source": [
    "# Get track "
   ]
  },
  {
   "cell_type": "code",
   "execution_count": 1,
   "metadata": {},
   "outputs": [],
   "source": [
    "import duckdb\n",
    "import pandas as pd\n",
    "import glob \n",
    "import os.path\n",
    "\n",
    "from shapely.geometry import Point"
   ]
  },
  {
   "cell_type": "markdown",
   "metadata": {},
   "source": [
    "## Import data and quick inspection"
   ]
  },
  {
   "cell_type": "markdown",
   "metadata": {},
   "source": [
    "Data is in the parent dir so get all files, also used pyspark to format the data"
   ]
  },
  {
   "cell_type": "code",
   "execution_count": 2,
   "metadata": {},
   "outputs": [],
   "source": [
    "# Get list of parquet files to import into duckdb\n",
    "data_dir = '../data/**/*.parquet'\n",
    "data_list = list(filter(lambda x: not os.path.isdir(x), glob.glob(data_dir, recursive=True) ))"
   ]
  },
  {
   "cell_type": "markdown",
   "metadata": {},
   "source": [
    "Load the data and GEOSPATIAL package"
   ]
  },
  {
   "cell_type": "code",
   "execution_count": 3,
   "metadata": {},
   "outputs": [],
   "source": [
    "start_date = '2022-01-01 00:00:00'\n",
    "stop_date = '2022-01-02 00:00:00'"
   ]
  },
  {
   "cell_type": "code",
   "execution_count": 4,
   "metadata": {},
   "outputs": [
    {
     "data": {
      "text/plain": [
       "<duckdb.duckdb.DuckDBPyConnection at 0x10a194530>"
      ]
     },
     "execution_count": 4,
     "metadata": {},
     "output_type": "execute_result"
    }
   ],
   "source": [
    "conn = duckdb.connect()\n",
    "conn.execute(\"INSTALL spatial; LOAD spatial;\")\n",
    "#conn.execute(f\"CREATE VIEW ais AS SELECT * FROM read_parquet({data_list})\")\n",
    "conn.execute(f\"\"\"\n",
    "    CREATE VIEW ais AS SELECT * FROM read_parquet({data_list})\n",
    "        WHERE basedatetime BETWEEN '{start_date}' AND '{stop_date}'\n",
    "\"\"\")"
   ]
  },
  {
   "cell_type": "markdown",
   "metadata": {},
   "source": [
    "Print out a table view"
   ]
  },
  {
   "cell_type": "code",
   "execution_count": 5,
   "metadata": {},
   "outputs": [
    {
     "name": "stdout",
     "output_type": "stream",
     "text": [
      "        MMSI        BaseDateTime        LAT         LON  SOG         COG  \\\n",
      "0  368084090 2022-01-01 05:00:00  29.931740  -89.992432  6.0  296.200012   \n",
      "1  368140160 2022-01-01 05:00:00  30.334749  -87.144287  0.0  312.000000   \n",
      "2  366941830 2022-01-01 05:00:02  29.309191  -94.797020  0.0  180.199997   \n",
      "3  316005971 2022-01-01 05:00:06  46.502682  -84.356743  2.4  258.600006   \n",
      "4  316004054 2022-01-01 05:00:07  46.503262  -84.375061  0.3   61.900002   \n",
      "5  366863870 2022-01-01 05:00:08  41.087479  -72.358139  0.0  215.300003   \n",
      "6  368118150 2022-01-01 05:00:25  47.397888 -122.329910  0.0  360.000000   \n",
      "7  338379253 2022-01-01 05:00:36  33.619968 -117.895912  0.0  360.000000   \n",
      "8  368195460 2022-01-01 05:00:41  37.643299 -122.329872  4.7  332.500000   \n",
      "9  367614790 2022-01-01 05:00:47  21.316730 -157.878204  0.0  203.699997   \n",
      "\n",
      "   Heading       VesselName         IMO CallSign  VesselType  Status  Length  \\\n",
      "0    299.0  LARRY B WHIPPLE        None  WDK7401          57    12.0    23.0   \n",
      "1     87.0    TWISTED ANGEL  IMO0000000  WDL5339          36     NaN    12.0   \n",
      "2    511.0     SAN PATRICIO        None  WCX6675          31     5.0    18.0   \n",
      "3    257.0      BEVERLY M I  IMO9084047  CFP2004          31     0.0    34.0   \n",
      "4    511.0       ADANAC III  IMO8745333     VCLT          31     0.0    24.0   \n",
      "5    511.0        MASHOMACK        None  WDA9320          60     0.0    38.0   \n",
      "6    511.0           FROLIC  IMO0000000  WDL3075          36     NaN    13.0   \n",
      "7    511.0    REEL DEAL III  IMO0000000     None          37     NaN    10.0   \n",
      "8    511.0          HORIZON  IMO0000000  WDM3234          36     NaN    10.0   \n",
      "9    511.0         LUCKY TJ  IMO0000000  WDH4162          30     NaN     0.0   \n",
      "\n",
      "   Width  Draft Cargo TransceiverClass  \n",
      "0   10.0    3.0    57                A  \n",
      "1    7.0    NaN  None                B  \n",
      "2    7.0    NaN    57                A  \n",
      "3   10.0    5.3    99                A  \n",
      "4    5.0    3.0    50                A  \n",
      "5   13.0    NaN    69                A  \n",
      "6    4.0    NaN  None                B  \n",
      "7    4.0    NaN  None                B  \n",
      "8    4.0    NaN  None                B  \n",
      "9    0.0    NaN  None                B  \n"
     ]
    }
   ],
   "source": [
    "data = conn.execute(\"PRAGMA table_info(ais)\").fetchall()\n",
    "\n",
    "# Convert DuckDB query results into a pandas DataFrame\n",
    "columns = [str(row[1]) for row in data]\n",
    "top_rows = pd.DataFrame(conn.execute(\"SELECT * FROM ais LIMIT 10\").fetchall(), columns=columns)\n",
    "\n",
    "# Print the first few rows of the resulting DataFrame\n",
    "print(top_rows)"
   ]
  },
  {
   "cell_type": "markdown",
   "metadata": {},
   "source": [
    "Get a single vessel and see if we can make a track"
   ]
  },
  {
   "cell_type": "code",
   "execution_count": 6,
   "metadata": {},
   "outputs": [
    {
     "data": {
      "text/plain": [
       "<duckdb.duckdb.DuckDBPyConnection at 0x10a194530>"
      ]
     },
     "execution_count": 6,
     "metadata": {},
     "output_type": "execute_result"
    }
   ],
   "source": [
    "#track_data = conn.execute(\"SELECT mmsi,lat,lon,basedatetime FROM ais WHERE mmsi ='367615680'\").fetchall()\n",
    "cur = conn.cursor()\n",
    "cur.execute(\"\"\"\n",
    "    CREATE TABLE IF NOT EXISTS sample_track (\n",
    "        mmsi INT,\n",
    "        lat FLOAT,\n",
    "        lon FLOAT,\n",
    "        basedatetime DATETIME\n",
    "    )\n",
    "\"\"\")\n",
    "\n",
    "cur.execute(\"\"\"\n",
    "    INSERT INTO sample_track (mmsi, lat, lon, basedatetime)\n",
    "    SELECT mmsi, lat, lon, basedatetime\n",
    "    FROM ais\n",
    "    WHERE mmsi = '367615680'\n",
    "    AND \n",
    "    basedatetime BETWEEN '2022-01-01 00:00:00' AND '2022-01-02 00:00:00'\n",
    "    ORDER BY basedatetime ASC\n",
    "\"\"\")\n",
    "conn.commit()"
   ]
  },
  {
   "cell_type": "code",
   "execution_count": 7,
   "metadata": {},
   "outputs": [
    {
     "name": "stdout",
     "output_type": "stream",
     "text": [
      "        mmsi        lat        lon        basedatetime\n",
      "0  367615680  28.383039 -96.540581 2022-01-01 05:01:35\n",
      "1  367615680  28.384060 -96.538338 2022-01-01 05:03:04\n",
      "2  367615680  28.384760 -96.536583 2022-01-01 05:04:15\n",
      "3  367615680  28.386580 -96.532654 2022-01-01 05:06:55\n",
      "4  367615680  28.387690 -96.530212 2022-01-01 05:08:34\n"
     ]
    }
   ],
   "source": [
    "# Fetch data from the new table into a pandas DataFrame\n",
    "track_data = pd.DataFrame(cur.execute(\"SELECT * FROM sample_track\").fetchall(), columns=['mmsi', 'lat', 'lon', 'basedatetime'])\n",
    "print(track_data.head())"
   ]
  },
  {
   "cell_type": "markdown",
   "metadata": {},
   "source": [
    "## Plot Track"
   ]
  },
  {
   "cell_type": "code",
   "execution_count": 9,
   "metadata": {},
   "outputs": [],
   "source": [
    "import folium"
   ]
  },
  {
   "cell_type": "code",
   "execution_count": 10,
   "metadata": {},
   "outputs": [
    {
     "data": {
      "text/plain": [
       "<duckdb.duckdb.DuckDBPyConnection at 0x10a194530>"
      ]
     },
     "execution_count": 10,
     "metadata": {},
     "output_type": "execute_result"
    }
   ],
   "source": [
    "cur = conn.cursor()\n",
    "points_list = cur.execute(\"SELECT lat, lon FROM sample_track\").fetchall()\n",
    "conn.commit()"
   ]
  },
  {
   "cell_type": "code",
   "execution_count": 12,
   "metadata": {},
   "outputs": [],
   "source": [
    "zoom_point = points_list[len(points_list) // 2]\n",
    "m = folium.Map(location=zoom_point, zoom_start=12)\n",
    "for p in points_list:\n",
    "    folium.Marker([p[0], p[1]]).add_to(m)\n",
    "m.save('map.html')"
   ]
  }
 ],
 "metadata": {
  "kernelspec": {
   "display_name": "duckdb",
   "language": "python",
   "name": "python3"
  },
  "language_info": {
   "codemirror_mode": {
    "name": "ipython",
    "version": 3
   },
   "file_extension": ".py",
   "mimetype": "text/x-python",
   "name": "python",
   "nbconvert_exporter": "python",
   "pygments_lexer": "ipython3",
   "version": "3.12.7"
  }
 },
 "nbformat": 4,
 "nbformat_minor": 2
}
